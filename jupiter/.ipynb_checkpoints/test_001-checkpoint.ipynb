{
 "cells": [
  {
   "cell_type": "markdown",
   "id": "8f2b1f67-0d63-4f6a-9b73-6bad4e41006b",
   "metadata": {},
   "source": [
    "# 1 Python QuickStart"
   ]
  },
  {
   "cell_type": "code",
   "execution_count": 7,
   "id": "113d719c-1b6e-4322-b316-0a3f9f0a99bf",
   "metadata": {},
   "outputs": [
    {
     "name": "stdout",
     "output_type": "stream",
     "text": [
      "hello wrold\n"
     ]
    }
   ],
   "source": [
    "h = 'hello wrold'\n",
    "print(h)"
   ]
  },
  {
   "cell_type": "code",
   "execution_count": 8,
   "id": "22f1c9c8-ba98-49e1-9683-f43f6dda44be",
   "metadata": {},
   "outputs": [],
   "source": [
    "a,b= 1,2"
   ]
  },
  {
   "cell_type": "code",
   "execution_count": 9,
   "id": "4f2efdd1-8f4f-46ed-ae6c-8324fa8e660b",
   "metadata": {},
   "outputs": [],
   "source": [
    "c= 1.7867543"
   ]
  },
  {
   "cell_type": "code",
   "execution_count": 10,
   "id": "46272fbb-d7cf-4a6f-a059-6e03e6336d96",
   "metadata": {},
   "outputs": [
    {
     "data": {
      "text/plain": [
       "'l'"
      ]
     },
     "execution_count": 10,
     "metadata": {},
     "output_type": "execute_result"
    }
   ],
   "source": [
    "h[-2]"
   ]
  },
  {
   "cell_type": "code",
   "execution_count": 11,
   "id": "9e03c3af-87ab-4fda-8c70-4b4bd4be900f",
   "metadata": {},
   "outputs": [
    {
     "data": {
      "text/plain": [
       "'ello wrol'"
      ]
     },
     "execution_count": 11,
     "metadata": {},
     "output_type": "execute_result"
    }
   ],
   "source": [
    "h[1:-1]"
   ]
  },
  {
   "cell_type": "code",
   "execution_count": 18,
   "id": "5bdc55b2-a584-48cf-8952-cbcbcc57e52a",
   "metadata": {},
   "outputs": [],
   "source": [
    "t=list()\n",
    "for x in range(10):\n",
    "    t.append([])"
   ]
  },
  {
   "cell_type": "code",
   "execution_count": 19,
   "id": "38c1c865-bbf5-48bd-9a06-b43fe019ec02",
   "metadata": {},
   "outputs": [
    {
     "data": {
      "text/plain": [
       "[[], [], [], [], [], [], [], [], [], []]"
      ]
     },
     "execution_count": 19,
     "metadata": {},
     "output_type": "execute_result"
    }
   ],
   "source": [
    "t"
   ]
  },
  {
   "cell_type": "code",
   "execution_count": 23,
   "id": "b1406a8d-bb0f-4d76-a330-5db058deba77",
   "metadata": {},
   "outputs": [],
   "source": [
    "t = [ [x for x in range(10)] for _ in range(10) ]"
   ]
  },
  {
   "cell_type": "code",
   "execution_count": 24,
   "id": "590758af-3358-4718-907d-40e4e6ba87f4",
   "metadata": {},
   "outputs": [
    {
     "data": {
      "text/plain": [
       "[[0, 1, 2, 3, 4, 5, 6, 7, 8, 9],\n",
       " [0, 1, 2, 3, 4, 5, 6, 7, 8, 9],\n",
       " [0, 1, 2, 3, 4, 5, 6, 7, 8, 9],\n",
       " [0, 1, 2, 3, 4, 5, 6, 7, 8, 9],\n",
       " [0, 1, 2, 3, 4, 5, 6, 7, 8, 9],\n",
       " [0, 1, 2, 3, 4, 5, 6, 7, 8, 9],\n",
       " [0, 1, 2, 3, 4, 5, 6, 7, 8, 9],\n",
       " [0, 1, 2, 3, 4, 5, 6, 7, 8, 9],\n",
       " [0, 1, 2, 3, 4, 5, 6, 7, 8, 9],\n",
       " [0, 1, 2, 3, 4, 5, 6, 7, 8, 9]]"
      ]
     },
     "execution_count": 24,
     "metadata": {},
     "output_type": "execute_result"
    }
   ],
   "source": [
    "t"
   ]
  },
  {
   "cell_type": "code",
   "execution_count": 25,
   "id": "12463536-5cf1-429f-b30f-8cc9e38f663c",
   "metadata": {},
   "outputs": [],
   "source": [
    "def function0(name:str) ->str:\n",
    "    tmp = 'test'\n",
    "    return f\"yoo {name+test}\""
   ]
  },
  {
   "cell_type": "code",
   "execution_count": 27,
   "id": "d936fc6b-1a10-4a68-988b-d2e1009eef33",
   "metadata": {},
   "outputs": [
    {
     "data": {
      "text/plain": [
       "'yoo hitema'"
      ]
     },
     "execution_count": 27,
     "metadata": {},
     "output_type": "execute_result"
    }
   ],
   "source": [
    "function0('hitema')"
   ]
  }
 ],
 "metadata": {
  "kernelspec": {
   "display_name": "Python 3 (ipykernel)",
   "language": "python",
   "name": "python3"
  },
  "language_info": {
   "codemirror_mode": {
    "name": "ipython",
    "version": 3
   },
   "file_extension": ".py",
   "mimetype": "text/x-python",
   "name": "python",
   "nbconvert_exporter": "python",
   "pygments_lexer": "ipython3",
   "version": "3.12.0"
  }
 },
 "nbformat": 4,
 "nbformat_minor": 5
}
