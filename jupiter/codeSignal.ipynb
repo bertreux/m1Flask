{
 "cells": [
  {
   "cell_type": "markdown",
   "id": "65a81b81-c7c3-4e85-9361-965fde7c506a",
   "metadata": {},
   "source": [
    "# Exercice Code Signal Python"
   ]
  },
  {
   "cell_type": "code",
   "execution_count": 12,
   "id": "3a465224-70e8-4ced-8638-05bbd8677f2a",
   "metadata": {},
   "outputs": [],
   "source": [
    "# Compte bits dans un entier\n",
    "def solution(n):\n",
    "    return n.bit_length()"
   ]
  },
  {
   "cell_type": "code",
   "execution_count": 11,
   "id": "e736ff78-35ed-42e2-9770-24786413b47b",
   "metadata": {},
   "outputs": [],
   "source": [
    "# verifie si n est un entier si oui retoune n % 2 sinon -1\n",
    "def solution(n):\n",
    "    if isinstance(n, int):\n",
    "        return n % 2\n",
    "    else:\n",
    "        return -1"
   ]
  },
  {
   "cell_type": "code",
   "execution_count": 10,
   "id": "35064041-5766-48b0-98d8-aec576e47265",
   "metadata": {},
   "outputs": [],
   "source": [
    "# Permet de trier un array en ascendant\n",
    "def solution(arr):\n",
    "\n",
    "    n = len(arr)\n",
    "\n",
    "    for i in range(n):\n",
    "        j = 0\n",
    "        stop = n - i\n",
    "        while j < stop - 1:\n",
    "            if arr[j] > arr[j + 1]:\n",
    "                arr[j], arr[j + 1] = arr[j + 1], arr[j]\n",
    "            j += 1\n",
    "    return arr"
   ]
  },
  {
   "cell_type": "code",
   "execution_count": 9,
   "id": "f6151010-80db-4a41-9866-73811ca06191",
   "metadata": {},
   "outputs": [],
   "source": [
    "# Converti n de base x vers un base 16\n",
    "def solution(n, x):\n",
    "    return hex(int(str(n), x))[2:]"
   ]
  },
  {
   "cell_type": "code",
   "execution_count": 8,
   "id": "4ada7232-188f-4cda-8ef6-2da5d37aaca5",
   "metadata": {},
   "outputs": [],
   "source": [
    "# cherche le plus petit entier pas dans l'array\n",
    "# si ce nombre est plus petit que upperBound retourne upperBound\n",
    "def solution(s, upperBound):\n",
    "    found = -1\n",
    "    for i in range(upperBound):\n",
    "        if not i in s:\n",
    "            found = i\n",
    "            break\n",
    "    else:\n",
    "        found = upperBound\n",
    "\n",
    "    return found"
   ]
  },
  {
   "cell_type": "code",
   "execution_count": 7,
   "id": "97eb2f33-3b91-4360-a3c0-5fe265c59eb5",
   "metadata": {},
   "outputs": [],
   "source": [
    "# Enleve le premier et dernier elements si array non vide\n",
    "# et premier et dernier elements différent\n",
    "def solution(a):\n",
    "    res = a[:]\n",
    "    while res and res[0] != res[-1]:\n",
    "        _ , *res, _ = res\n",
    "    return res"
   ]
  },
  {
   "cell_type": "code",
   "execution_count": 13,
   "id": "273d1838-2a43-4eb4-8501-8dc26186b06d",
   "metadata": {},
   "outputs": [],
   "source": [
    "# Met str en minuscule puis la premier caractere en majuscule\n",
    "def solution(message):\n",
    "    return message.lower().capitalize()"
   ]
  },
  {
   "cell_type": "code",
   "execution_count": 14,
   "id": "af09f303-ec74-4074-9902-ff6717d564f9",
   "metadata": {},
   "outputs": [],
   "source": [
    "# Remplace dans une str les multiples espaces par un espaces\n",
    "# puis enleve les espaces du debut et de la fin du str\n",
    "import re\n",
    "\n",
    "def solution(code):\n",
    "    return re.sub(\"[ ]{2,}\", \" \", code).strip()"
   ]
  },
  {
   "cell_type": "code",
   "execution_count": 15,
   "id": "59e18b4b-5b02-4f72-bd71-526a10e9d553",
   "metadata": {},
   "outputs": [],
   "source": [
    "# Remplace \\t par x nombre d'espaces\n",
    "def solution(code, x):\n",
    "    return re.sub(\"\\t\",\" \"*x,code)"
   ]
  },
  {
   "cell_type": "code",
   "execution_count": 16,
   "id": "ab52d7a6-8899-4417-a239-b5be905a1d3d",
   "metadata": {},
   "outputs": [],
   "source": [
    "# Divise un str par les espaces si la longueur entre deux espaces\n",
    "# est supérieur a size\n",
    "import textwrap\n",
    "\n",
    "def solution(feedback, size):\n",
    "    return textwrap.wrap(feedback, size)"
   ]
  },
  {
   "cell_type": "code",
   "execution_count": 17,
   "id": "68ce5ce7-ebb6-4ad0-9bf8-abe04e84cbb5",
   "metadata": {},
   "outputs": [],
   "source": [
    "# Test si str est un palindrome ( ::-1 ) inverse la chaine\n",
    "def solution(word):\n",
    "    return word == word[::-1]"
   ]
  },
  {
   "cell_type": "code",
   "execution_count": 18,
   "id": "4f29f74f-6761-4952-90ae-faab052427cf",
   "metadata": {},
   "outputs": [],
   "source": [
    "# remplace dans password le caractere a la pos x par celui dans key\n",
    "def solution(password, key):\n",
    "    table = ' '*97+key\n",
    "    return str(password).translate(table)"
   ]
  },
  {
   "cell_type": "code",
   "execution_count": 19,
   "id": "a4ca916e-76e6-4b52-bd6c-8ed1b508a34b",
   "metadata": {},
   "outputs": [],
   "source": [
    "# Dans cet exemple, \"{:^{width}.{precision}f}\" est un format \n",
    "# qui spécifie alignement central (^), un total de width, \n",
    "# et une precision pour le nombre après la virgule. \n",
    "def solution(t, width, precision):\n",
    "    return \"{:^{width}.{precision}f}\".format(t, width=width, precision=precision)"
   ]
  },
  {
   "cell_type": "code",
   "execution_count": 20,
   "id": "50030f8f-2286-4eca-a969-676d00cd05cc",
   "metadata": {},
   "outputs": [],
   "source": [
    "# remplace l'ancien format (ex : %f) par {}\n",
    "import re\n",
    "def solution(s):\n",
    "    return \"%\".join([re.sub(\"%([bcdeEfFgGnosxX])\",\"{}\",S) for S in s.split(\"%%\")])"
   ]
  }
 ],
 "metadata": {
  "kernelspec": {
   "display_name": "Python 3 (ipykernel)",
   "language": "python",
   "name": "python3"
  },
  "language_info": {
   "codemirror_mode": {
    "name": "ipython",
    "version": 3
   },
   "file_extension": ".py",
   "mimetype": "text/x-python",
   "name": "python",
   "nbconvert_exporter": "python",
   "pygments_lexer": "ipython3",
   "version": "3.12.0"
  }
 },
 "nbformat": 4,
 "nbformat_minor": 5
}
